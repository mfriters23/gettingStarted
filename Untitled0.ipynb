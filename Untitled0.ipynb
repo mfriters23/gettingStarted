{
  "nbformat": 4,
  "nbformat_minor": 0,
  "metadata": {
    "colab": {
      "provenance": [],
      "mount_file_id": "1gLcg2o8teHqam50TrG-ww_SU28YO7lTv",
      "authorship_tag": "ABX9TyPWzdd2vXRBsZNy2b7SXPwe",
      "include_colab_link": true
    },
    "kernelspec": {
      "name": "python3",
      "display_name": "Python 3"
    },
    "language_info": {
      "name": "python"
    }
  },
  "cells": [
    {
      "cell_type": "markdown",
      "metadata": {
        "id": "view-in-github",
        "colab_type": "text"
      },
      "source": [
        "<a href=\"https://colab.research.google.com/github/mfriters23/gettingStarted/blob/main/Untitled0.ipynb\" target=\"_parent\"><img src=\"https://colab.research.google.com/assets/colab-badge.svg\" alt=\"Open In Colab\"/></a>"
      ]
    },
    {
      "cell_type": "code",
      "execution_count": 1,
      "metadata": {
        "colab": {
          "base_uri": "https://localhost:8080/"
        },
        "id": "n0wpJ9nWd-nv",
        "outputId": "c490e633-4f1b-4a60-e989-f068d1bad6b5"
      },
      "outputs": [
        {
          "output_type": "stream",
          "name": "stdout",
          "text": [
            "Cloning into 'repy_v2'...\n",
            "remote: Enumerating objects: 1842, done.\u001b[K\n",
            "remote: Counting objects: 100% (4/4), done.\u001b[K\n",
            "remote: Compressing objects: 100% (4/4), done.\u001b[K\n",
            "remote: Total 1842 (delta 0), reused 0 (delta 0), pack-reused 1838\u001b[K\n",
            "Receiving objects: 100% (1842/1842), 1.17 MiB | 8.41 MiB/s, done.\n",
            "Resolving deltas: 100% (970/970), done.\n",
            "/content/repy_v2/scripts\n",
            "Checking out repo fromhttps://github.com/kcg295/seattlelib_v2...\n",
            "Done!\n",
            "Checking out repo fromhttps://github.com/kcg295/portability...\n",
            "Done!\n",
            "Checking out repo fromhttps://github.com/kcg295/seash...\n",
            "Done!\n",
            "Checking out repo fromhttps://github.com/kcg295/affix...\n",
            "Done!\n",
            "Checking out repo fromhttps://github.com/kcg295/common...\n",
            "Done!\n",
            "Checking out repo fromhttps://github.com/kcg295/utf...\n",
            "Done!\n",
            "Building into /content/repy_v2/RUNNABLE\n",
            "Done building!\n",
            "/content/repy_v2/RUNNABLE\n",
            "--2024-02-18 18:27:21--  https://static.us.edusercontent.com/files/cDshGjQKDAvNdu8D4maBH44A\n",
            "Resolving static.us.edusercontent.com (static.us.edusercontent.com)... 104.18.27.15, 104.18.26.15, 2606:4700::6812:1b0f, ...\n",
            "Connecting to static.us.edusercontent.com (static.us.edusercontent.com)|104.18.27.15|:443... connected.\n",
            "HTTP request sent, awaiting response... 200 OK\n",
            "Length: 416 [application/octet-stream]\n",
            "Saving to: ‘/content/repy_v2/RUNNABLE/myapplication.r2py’\n",
            "\n",
            "/content/repy_v2/RU 100%[===================>]     416  --.-KB/s    in 0s      \n",
            "\n",
            "2024-02-18 18:27:21 (209 MB/s) - ‘/content/repy_v2/RUNNABLE/myapplication.r2py’ saved [416/416]\n",
            "\n",
            "--2024-02-18 18:27:21--  https://static.us.edusercontent.com/files/Gj5dNy8S9d2jui8e1pEulioT\n",
            "Resolving static.us.edusercontent.com (static.us.edusercontent.com)... 104.18.27.15, 104.18.26.15, 2606:4700::6812:1b0f, ...\n",
            "Connecting to static.us.edusercontent.com (static.us.edusercontent.com)|104.18.27.15|:443... connected.\n",
            "HTTP request sent, awaiting response... 200 OK\n",
            "Length: unspecified [application/octet-stream]\n",
            "Saving to: ‘/content/repy_v2/RUNNABLE/gettingstartedmonitor.r2py’\n",
            "\n",
            "/content/repy_v2/RU     [ <=>                ]   1.08K  --.-KB/s    in 0s      \n",
            "\n",
            "2024-02-18 18:27:21 (13.7 MB/s) - ‘/content/repy_v2/RUNNABLE/gettingstartedmonitor.r2py’ saved [1103]\n",
            "\n",
            "--2024-02-18 18:27:21--  https://static.us.edusercontent.com/files/RffcT5CCw1UGS2ZcycO1MOPj\n",
            "Resolving static.us.edusercontent.com (static.us.edusercontent.com)... 104.18.27.15, 104.18.26.15, 2606:4700::6812:1b0f, ...\n",
            "Connecting to static.us.edusercontent.com (static.us.edusercontent.com)|104.18.27.15|:443... connected.\n",
            "HTTP request sent, awaiting response... 200 OK\n",
            "Length: unspecified [text/plain]\n",
            "Saving to: ‘/content/repy_v2/RUNNABLE/story.txt’\n",
            "\n",
            "/content/repy_v2/RU     [ <=>                ]     473  --.-KB/s    in 0s      \n",
            "\n",
            "2024-02-18 18:27:21 (275 MB/s) - ‘/content/repy_v2/RUNNABLE/story.txt’ saved [473]\n",
            "\n",
            "--2024-02-18 18:27:21--  https://tinyurl.com/2p8temtu\n",
            "Resolving tinyurl.com (tinyurl.com)... 104.20.139.65, 172.67.1.225, 104.20.138.65, ...\n",
            "Connecting to tinyurl.com (tinyurl.com)|104.20.139.65|:443... connected.\n",
            "HTTP request sent, awaiting response... 301 Moved Permanently\n",
            "Location: https://gist.githubusercontent.com/SA6246/a5119bc5752bb03db5c8d1ab4e385ee5/raw/6a246a0fa2eac3a76c8c34b3f433cc39f98f8b6c/reference_monitor_netid.r2py [following]\n",
            "--2024-02-18 18:27:22--  https://gist.githubusercontent.com/SA6246/a5119bc5752bb03db5c8d1ab4e385ee5/raw/6a246a0fa2eac3a76c8c34b3f433cc39f98f8b6c/reference_monitor_netid.r2py\n",
            "Resolving gist.githubusercontent.com (gist.githubusercontent.com)... 185.199.108.133, 185.199.109.133, 185.199.110.133, ...\n",
            "Connecting to gist.githubusercontent.com (gist.githubusercontent.com)|185.199.108.133|:443... connected.\n",
            "HTTP request sent, awaiting response... 200 OK\n",
            "Length: 2074 (2.0K) [text/plain]\n",
            "Saving to: ‘/content/repy_v2/RUNNABLE/reference_monitor_netid.r2py’\n",
            "\n",
            "/content/repy_v2/RU 100%[===================>]   2.03K  --.-KB/s    in 0s      \n",
            "\n",
            "2024-02-18 18:27:22 (18.2 MB/s) - ‘/content/repy_v2/RUNNABLE/reference_monitor_netid.r2py’ saved [2074/2074]\n",
            "\n",
            "dos2unix: converting file /content/repy_v2/RUNNABLE/story.txt to Unix format...\n"
          ]
        }
      ],
      "source": [
        "!git clone https://github.com/paoga87/repy_v2\n",
        "%cd /content/repy_v2/scripts\n",
        "!python3 initialize.py\n",
        "!python3 build.py\n",
        "%cd ../RUNNABLE/\n",
        "!wget -O /content/repy_v2/RUNNABLE/myapplication.r2py https://static.us.edusercontent.com/files/cDshGjQKDAvNdu8D4maBH44A\n",
        "!wget -O /content/repy_v2/RUNNABLE/gettingstartedmonitor.r2py https://static.us.edusercontent.com/files/Gj5dNy8S9d2jui8e1pEulioT\n",
        "!wget -O /content/repy_v2/RUNNABLE/story.txt https://static.us.edusercontent.com/files/RffcT5CCw1UGS2ZcycO1MOPj\n",
        "!wget -O /content/repy_v2/RUNNABLE/reference_monitor_netid.r2py https://tinyurl.com/2p8temtu\n",
        "\n",
        "#a utility to convert the story.txt file to the unix format\n",
        "!apt-get install -y dos2unix &> /dev/null\n",
        "!dos2unix /content/repy_v2/RUNNABLE/story.txt"
      ]
    },
    {
      "cell_type": "code",
      "source": [
        "!python3 repy.py encasementlib.r2py gettingstartedmonitor.r2py myapplication.r2py"
      ],
      "metadata": {
        "colab": {
          "base_uri": "https://localhost:8080/"
        },
        "id": "FUP-1xPeyAgm",
        "outputId": "f49c9ef8-25a6-4751-a30c-742cc4967822"
      },
      "execution_count": 41,
      "outputs": [
        {
          "output_type": "stream",
          "name": "stdout",
          "text": [
            "Hello World!\n",
            "M\n",
            "459\n",
            ".\n",
            "^C\n"
          ]
        }
      ]
    }
  ]
}